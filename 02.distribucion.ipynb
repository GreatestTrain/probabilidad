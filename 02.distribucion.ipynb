{
 "cells": [
  {
   "cell_type": "markdown",
   "metadata": {},
   "source": [
    "**Distribución**\n",
    "-\n",
    "---"
   ]
  },
  {
   "cell_type": "markdown",
   "metadata": {},
   "source": [
    "Cuando la probabilidad cambia en función de otra varibale se le puede llamar una distribución."
   ]
  },
  {
   "cell_type": "markdown",
   "metadata": {},
   "source": [
    "Donde:\n",
    "\n",
    "$X \\Longrightarrow P(X): \\text{Distribución de probabilidad}$\n",
    "\n",
    "$P(X \\le x) = \\int_{X\\le x}{P(X)}: \\text{Función de probabilidad}$\n",
    "\n",
    "$ 1 - P(X \\le x) = P(X > x):  \\text{Complemento de probabilidad}$\n",
    "\n",
    "$\\int_{a}^{b}P(X): \\text{Probabilidad ente dos valores.}$"
   ]
  },
  {
   "cell_type": "markdown",
   "metadata": {},
   "source": [
    "#### **Distribuciones discretas**"
   ]
  },
  {
   "cell_type": "markdown",
   "metadata": {},
   "source": [
    "_Si lanzamos una moneda de dos caras 3 veces._"
   ]
  },
  {
   "cell_type": "markdown",
   "metadata": {},
   "source": [
    "* **Distribución binomial:**\n",
    "\n",
    "    Donde:\n",
    "    \n",
    "    $p(k,n) = $ \n",
    "    $\\left(\\begin{matrix}n\\\\k\\end{matrix}\\right)$: Número de posibilidades de conseguir $k$ caras con $n$ lanzamientos.\n",
    "    \n",
    "    $\\left(\\begin{matrix}n\\\\k\\end{matrix}\\right) = \n",
    "    \\frac{n!}{k!(n-k)!}$"
   ]
  },
  {
   "cell_type": "code",
   "execution_count": 2,
   "metadata": {},
   "outputs": [],
   "source": [
    "import matplotlib.pyplot as plt\n",
    "import numpy as np\n",
    "from math import factorial"
   ]
  },
  {
   "cell_type": "code",
   "execution_count": 4,
   "metadata": {},
   "outputs": [
    {
     "data": {
      "text/plain": [
       "[<matplotlib.lines.Line2D at 0x1c5e135c670>]"
      ]
     },
     "execution_count": 4,
     "metadata": {},
     "output_type": "execute_result"
    },
    {
     "data": {
      "image/png": "[encoded data removed]",
      "text/plain": [
       "<Figure size 432x288 with 1 Axes>"
      ]
     },
     "metadata": {
      "needs_background": "light"
     },
     "output_type": "display_data"
    }
   ],
   "source": [
    "fig, ax = plt.subplots()\n",
    "def p(k, n, p):\n",
    "    return (factorial(n)/(factorial(k)*factorial(n-k)))\n",
    "n = 20\n",
    "k = np.array([i for i in range(n+1)])\n",
    "y = np.array([p(i,n,2) for i in k])\n",
    "ax.plot(k, y)"
   ]
  }
 ],
 "metadata": {
  "interpreter": {
   "hash": "40045ba4287eb5f67feca55db0927d249762f6e31a023956f349261635c9fa11"
  },
  "kernelspec": {
   "display_name": "Python 3.10.2 ('ds')",
   "language": "python",
   "name": "python3"
  },
  "language_info": {
   "codemirror_mode": {
    "name": "ipython",
    "version": 3
   },
   "file_extension": ".py",
   "mimetype": "text/x-python",
   "name": "python",
   "nbconvert_exporter": "python",
   "pygments_lexer": "ipython3",
   "version": "3.10.2"
  },
  "orig_nbformat": 4
 },
 "nbformat": 4,
 "nbformat_minor": 2
}
