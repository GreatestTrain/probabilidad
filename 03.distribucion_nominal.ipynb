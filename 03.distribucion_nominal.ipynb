{
  "cells": [
    {
      "cell_type": "markdown",
      "metadata": {
        "id": "j0ZPLw1C275z"
      },
      "source": [
        "**Secuencias de eventos tipo Bernoulli**\n",
        "-\n",
        "---"
      ]
    },
    {
      "cell_type": "markdown",
      "metadata": {},
      "source": [
        "Son las posibilidades de obtener cierto suceso donde el espacio muestral es discreto."
      ]
    },
    {
      "cell_type": "markdown",
      "metadata": {},
      "source": [
        "Donde:\n",
        "\n",
        "$k: \\text{número de intentos}$\n",
        "\n",
        "$n: \\text{número de éxitos deseados}$\n",
        "\n",
        "$p: \\text{probabilidad del éxito en un suceso aislado}$\n",
        "\n",
        "$$\n",
        "P(k, n; p) = {n \\choose k} p^k (1-p)^{n-k} = \\frac{n!}{k!(n-k)!}p^k (1-p)^{n-k}\n",
        "$$"
      ]
    },
    {
      "cell_type": "code",
      "execution_count": 2,
      "metadata": {
        "id": "mk5PbdQ60KHF"
      },
      "outputs": [],
      "source": [
        "import numpy as np\n",
        "from numpy.random import binomial\n",
        "from scipy.stats import binom\n",
        "from math import factorial\n",
        "import matplotlib.pyplot as plt"
      ]
    },
    {
      "cell_type": "code",
      "execution_count": 7,
      "metadata": {},
      "outputs": [
        {
          "name": "stdout",
          "output_type": "stream",
          "text": [
            "my binomial: 0.375\n"
          ]
        }
      ],
      "source": [
        "## Forma 1\n",
        "# Definición de la distribución binomial \n",
        "def my_binomial(k, n, p):\n",
        "  return factorial(n)/(factorial(k)*(factorial(n-k)))*pow(p,k)*pow(1-p, n-k)\n",
        "print('my binomial: {}'.format(my_binomial(2, 3, 0.5)))"
      ]
    },
    {
      "cell_type": "markdown",
      "metadata": {},
      "source": [
        "\n",
        "El método <kbd>.pmf</kbd> indica la posibilidad de que el suceso requerido suceda."
      ]
    },
    {
      "cell_type": "code",
      "execution_count": 6,
      "metadata": {
        "colab": {
          "base_uri": "https://localhost:8080/",
          "height": 51
        },
        "id": "1zz8o3qp4SaV",
        "outputId": "01b19cab-e964-4c87-d326-6c78f15561d6"
      },
      "outputs": [
        {
          "data": {
            "text/plain": [
              "0.3750000000000001"
            ]
          },
          "execution_count": 6,
          "metadata": {},
          "output_type": "execute_result"
        }
      ],
      "source": [
        "## Forma 2\n",
        "dist = binom(3, 0.5)\n",
        "dist.pmf(2)"
      ]
    },
    {
      "cell_type": "code",
      "execution_count": 17,
      "metadata": {},
      "outputs": [
        {
          "data": {
            "text/plain": [
              "0.875"
            ]
          },
          "execution_count": 17,
          "metadata": {},
          "output_type": "execute_result"
        }
      ],
      "source": [
        "1 - dist.pmf(3)"
      ]
    },
    {
      "cell_type": "code",
      "execution_count": 13,
      "metadata": {},
      "outputs": [
        {
          "data": {
            "image/png": "[encoded data removed]",
            "text/plain": [
              "<Figure size 432x288 with 1 Axes>"
            ]
          },
          "metadata": {
            "needs_background": "light"
          },
          "output_type": "display_data"
        }
      ],
      "source": [
        "fig1, ax1 = plt.subplots()\n",
        "x1 = np.linspace(0,100,num=1000)\n",
        "y1 = np.array([my_binomial(int(i),100,0.5) for i in x1])\n",
        "ax1.plot(x1, y1, color='g')\n",
        "plt.show() "
      ]
    },
    {
      "cell_type": "markdown",
      "metadata": {
        "id": "HFfJnG06rO6I"
      },
      "source": [
        "#### **Simulaciones de secuencias con generadores aleatorios**\n",
        "\n",
        "* Los generadores aleatorios tienen como propósito simular muestras de datos que resultarían de muestreos en la vida real de procesos aleatorios como lanzar una moneda o un dado."
      ]
    },
    {
      "cell_type": "code",
      "execution_count": 32,
      "metadata": {
        "colab": {
          "base_uri": "https://localhost:8080/",
          "height": 34
        },
        "id": "DgvwIIkD2hbo",
        "outputId": "aedf8147-4565-41f9-94cb-257f37ffe4d4"
      },
      "outputs": [
        {
          "data": {
            "text/plain": [
              "1"
            ]
          },
          "execution_count": 32,
          "metadata": {},
          "output_type": "execute_result"
        }
      ],
      "source": [
        "p=0.5\n",
        "n=3\n",
        "binomial(n, p)"
      ]
    },
    {
      "cell_type": "code",
      "execution_count": 33,
      "metadata": {
        "id": "TjFgKhWFsjom"
      },
      "outputs": [],
      "source": [
        "# Vamos a hacer un experimento generando una muestra de conjuntos de lanzamientos de a 3 monedas\n",
        "arr = []\n",
        "for _ in range(100):\n",
        "  arr.append(binomial(n, p))"
      ]
    },
    {
      "cell_type": "code",
      "execution_count": 185,
      "metadata": {},
      "outputs": [
        {
          "data": {
            "text/plain": [
              "0.3750000000000001"
            ]
          },
          "execution_count": 185,
          "metadata": {},
          "output_type": "execute_result"
        }
      ],
      "source": [
        "binom(3,0.5).pmf(1)"
      ]
    },
    {
      "cell_type": "code",
      "execution_count": 193,
      "metadata": {},
      "outputs": [
        {
          "data": {
            "image/png": "[encoded data removed]",
            "text/plain": [
              "<Figure size 432x288 with 1 Axes>"
            ]
          },
          "metadata": {
            "needs_background": "light"
          },
          "output_type": "display_data"
        }
      ],
      "source": [
        "def plot_hist(num_trials):\n",
        "    values = [0,1,2,3]\n",
        "    arr = [binomial(len(values)-1, 0.5) for _ in range(num_trials+1)]\n",
        "    sim = np.unique(arr, return_counts=True)[1]/num_trials\n",
        "    teorica = [binom(len(values), 0.5).pmf(k) for k in values]\n",
        "    plt.bar(values, sim, color = 'red')\n",
        "    plt.bar(values, teorica, alpha = 0.65,color = 'blue')\n",
        "    plt.title('{} experimentos'.format(num_trials))\n",
        "plot_hist(100)\n",
        "# h"
      ]
    },
    {
      "cell_type": "markdown",
      "metadata": {
        "id": "U6RH83Vfp5Jh"
      },
      "source": [
        "#### **Distribución binomial acumulada**"
      ]
    },
    {
      "cell_type": "markdown",
      "metadata": {},
      "source": [
        "$$\n",
        "P(k\\leq 2, n=3, p=1/2) = \\sum_{k=0}^2 \\left[ \\frac{n!}{k!(n-k)!}p^k (1-p)^{n-k} \\right] = \\frac{7}{8}\n",
        "$$"
      ]
    },
    {
      "cell_type": "markdown",
      "metadata": {},
      "source": [
        "El método <kbd>.cdf</kbd> indica la probabilidad acumulada de los sucesos desde $0$ hasta el solicitado."
      ]
    },
    {
      "cell_type": "code",
      "execution_count": 14,
      "metadata": {
        "colab": {
          "base_uri": "https://localhost:8080/",
          "height": 51
        },
        "id": "X6pS-e1k3E6D",
        "outputId": "cd416851-5324-41ff-bd6f-f8b3f4ffdd25"
      },
      "outputs": [
        {
          "data": {
            "text/plain": [
              "0.875"
            ]
          },
          "execution_count": 14,
          "metadata": {},
          "output_type": "execute_result"
        }
      ],
      "source": [
        "dist.cdf(2)"
      ]
    },
    {
      "cell_type": "markdown",
      "metadata": {},
      "source": [
        "En el siguiente gráfico se muestra las posibilidades de que se saquen hasta $23$ caras lanzando $1$ moneda $40$.\n",
        "Para lo cual se necesita resolver:\n",
        "$$ p\\left(k\\le{23}, n ;\\frac{1}{2}\\right)$$\n",
        "$$ \\sum_{i=0}^{23}\\left(\\begin{matrix}n\\\\i\\end{matrix}\\right)p^k(1-p)^{n-k} $$\n",
        "Reemplazando:\n",
        "$$ \\sum_{i=0}^{23}\\left(\\begin{matrix}40\\\\i\\end{matrix}\\right)0.5^{i}(1-0.5)^{40-i} $$"
      ]
    },
    {
      "cell_type": "code",
      "execution_count": 117,
      "metadata": {},
      "outputs": [
        {
          "name": "stdout",
          "output_type": "stream",
          "text": [
            "Respuesta: 0.8659063744726154\n"
          ]
        }
      ],
      "source": [
        "dist1 = binom(40,0.5)\n",
        "print('Respuesta: {}'.format(dist1.cdf(23)))"
      ]
    },
    {
      "cell_type": "code",
      "execution_count": 111,
      "metadata": {},
      "outputs": [
        {
          "data": {
            "image/png": "[encoded data removed]",
            "text/plain": [
              "<Figure size 432x288 with 1 Axes>"
            ]
          },
          "metadata": {
            "needs_background": "light"
          },
          "output_type": "display_data"
        }
      ],
      "source": [
        "fig2, ax2 = plt.subplots()\n",
        "x2 = [i for i in range(40)]\n",
        "y2 = dist1.pmf(x2)\n",
        "ax2.plot(x2, y2, color='g')\n",
        "pp1=23\n",
        "linea1 = np.array([[pp1,pp1],[0,dist1.pmf(pp1)]])\n",
        "ax2.plot(linea1[0], linea1[1], color='blue', linewidth=0.5)\n",
        "ax2.fill_between(x2, y2,0, where=[i<=pp1 for i in x2],color='brown')\n",
        "plt.show() "
      ]
    }
  ],
  "metadata": {
    "colab": {
      "collapsed_sections": [],
      "name": "Copia de [Clase8]Distribución_Binomial.ipynb",
      "provenance": []
    },
    "kernelspec": {
      "display_name": "Python 3",
      "name": "python3"
    },
    "language_info": {
      "codemirror_mode": {
        "name": "ipython",
        "version": 3
      },
      "file_extension": ".py",
      "mimetype": "text/x-python",
      "name": "python",
      "nbconvert_exporter": "python",
      "pygments_lexer": "ipython3",
      "version": "3.10.2"
    }
  },
  "nbformat": 4,
  "nbformat_minor": 0
}
