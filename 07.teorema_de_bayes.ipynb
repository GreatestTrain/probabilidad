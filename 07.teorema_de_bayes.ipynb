{
 "cells": [
  {
   "cell_type": "markdown",
   "metadata": {},
   "source": [
    "**Teorema de Bayes**\n",
    "-\n",
    "---"
   ]
  },
  {
   "cell_type": "markdown",
   "metadata": {},
   "source": [
    "$$ P(A|B) =  \\frac{P(B|A)·P(A)}{P(B)} $$\n",
    "Donde:\n",
    "\n",
    "$B$: es la evidencia\n",
    "$$ P(B) = \\sum_A P(B, A)$$\n",
    "$$ P(B) = \\sum_A P(B| A)·P(A)$$"
   ]
  },
  {
   "cell_type": "markdown",
   "metadata": {},
   "source": [
    "#### **En _machine learning_**"
   ]
  },
  {
   "cell_type": "markdown",
   "metadata": {},
   "source": [
    "$$ P(D|h) $$"
   ]
  },
  {
   "cell_type": "markdown",
   "metadata": {},
   "source": [
    "$$\n",
    "P(h|D) = \\frac{P(D|h)·P(h)}{P(D)} $$\n",
    "$$\n",
    "\\max{P(h|D)} \\rightarrow \\max{P(D|h)·P(h)}\n",
    "$$"
   ]
  },
  {
   "cell_type": "markdown",
   "metadata": {},
   "source": [
    "#### **Ejemplo**\n",
    "Donde $d$ es un documento que puede pertenecer a la categoría $c_n$.\n",
    "$$\n",
    "d \\Longrightarrow \\begin{cases}\n",
    "20\\%, \\quad c_1: \\text{deportes} \\\\\n",
    "10\\%, \\quad c_2: \\text{videojuegos}\\\\\n",
    "\\vdots \\\\\n",
    "\n",
    "\\ \\ 3\\%, \\quad c_n: \\text{política}\n",
    "\n",
    "\\end{cases}\n",
    "$$\n",
    "\n",
    "######  $ \\max{P(h|D)}=\\max{P(D|h)·P(h)} $\n",
    "Clasificador de _naire bayes_\n",
    "###### $ P(D|h) = \\prod_i P(X_i|h) $"
   ]
  }
 ],
 "metadata": {
  "language_info": {
   "name": "python"
  },
  "orig_nbformat": 4
 },
 "nbformat": 4,
 "nbformat_minor": 2
}
