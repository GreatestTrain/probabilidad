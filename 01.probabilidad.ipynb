{
 "cells": [
  {
   "cell_type": "markdown",
   "metadata": {},
   "source": [
    "**Probabilidad**\n",
    "-\n",
    "---"
   ]
  },
  {
   "cell_type": "markdown",
   "metadata": {},
   "source": [
    "Una probabilidad se expresa de la siguiente forma:\n",
    "$$P=\\frac{\\text{Nº de sucesos exitosos}}{\\text{Nº de sucesos totales}}$$"
   ]
  },
  {
   "cell_type": "markdown",
   "metadata": {},
   "source": [
    "Un suceso es la parte elemental de la probabilidad. Por ejemplo al tirar un dado 2 veces existen 36 sucesos ya que:\n",
    "$$p^k =6^2$$"
   ]
  },
  {
   "cell_type": "markdown",
   "metadata": {},
   "source": [
    "Si quisiéramos calcular la probabilidad de obtener una cara par en los dos dados debemos contar los sucesos en los que sucede.\n",
    "\n",
    "Siendo:\n",
    "\n",
    "$A: \\text{Que ambas caras sean pares}.$\n",
    "\n",
    "||1|2|3|4|5|6|\n",
    "|-|-|-|-|-|-|-|\n",
    "|1||||||\n",
    "|2||x||x||x\n",
    "|3||||||\n",
    "|4||x||x||x\n",
    "|5||||||\n",
    "|6||x||x||x\n",
    "\n",
    "En este caso existen 9 sucesos en los que esto es posible."
   ]
  },
  {
   "cell_type": "markdown",
   "metadata": {},
   "source": [
    "Por lo que la probabilidad de qué $A$ suceda es:\n",
    "\n",
    "$P_A = 9/36$"
   ]
  },
  {
   "cell_type": "markdown",
   "metadata": {},
   "source": [
    "#### **Tipos de probabilidad**"
   ]
  },
  {
   "cell_type": "markdown",
   "metadata": {},
   "source": [
    "* **Probabilidad marginal**\n",
    "\n",
    "    $P_B$ es la probabilidad marginal de que $B$ suceda.\n",
    "    Sucesos en los que $B$ se cumple:\n",
    "\n",
    "    |A/B|1|2|3|4|5|6|\n",
    "    |-|-|-|-|-|-|-|\n",
    "    |1||x||x||x|\n",
    "    |2||x||x||x|\n",
    "    |3||x||x||x|\n",
    "    |4||x||x||x|\n",
    "    |5||x||x||x|\n",
    "    |6||x||x||x|\n",
    "\n",
    "    Por lo tanto:\n",
    "    $P_B=1/2$"
   ]
  },
  {
   "cell_type": "markdown",
   "metadata": {},
   "source": [
    "* **Probabilidad conjunta**\n",
    "\n",
    "    \n",
    "    Sucesos en los que $A$ se cumple, cuando $B$ se ha cumplido:\n",
    "\n",
    "    |A/B|2|4|6|\n",
    "    |-|-|-|-|\n",
    "    |1||||\n",
    "    |2|x|x|x|\n",
    "    |3||||\n",
    "    |4|x|x|x|\n",
    "    |5||||\n",
    "    |6|x|x|x|\n",
    "\n",
    "    $P_{(A|B)} = 9/18$"
   ]
  },
  {
   "cell_type": "markdown",
   "metadata": {},
   "source": [
    "* **Probabilidad condicional**\n",
    "\n",
    "    El anterior ejemplo también puede ser representado de forma consecuencial.\n",
    "\n",
    "    Donde:\n",
    "\n",
    "    $$P_{(A\\cap{B})} = P_{(A|B)}·P_{B}$$\n",
    "    que significa que $A$ suceda dado que $B$.\n",
    "\n",
    "    $A: \\text{Que el dado 1 caiga par}\\\\B:\\text{Que el dado 2 caiga par}$\n",
    "\n",
    "    $P_B = 18/36$\n",
    "\n",
    "    Entonces:\n",
    "    \n",
    "    $P_{(A|B)} = P_{(A|B)}·P_{B}$\n",
    "\n",
    "    $ P_{(A|B)} = 1/4$"
   ]
  }
 ],
 "metadata": {
  "language_info": {
   "name": "python"
  },
  "orig_nbformat": 4
 },
 "nbformat": 4,
 "nbformat_minor": 2
}
