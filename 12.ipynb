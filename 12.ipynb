{
 "cells": [
  {
   "cell_type": "code",
   "execution_count": 16,
   "metadata": {},
   "outputs": [],
   "source": [
    "import numpy as np\n",
    "import pandas as pd\n",
    "import matplotlib.pyplot as plt\n",
    "import matplotlib.patches as patch\n",
    "import fs\n",
    "from itertools import product"
   ]
  },
  {
   "cell_type": "code",
   "execution_count": 2,
   "metadata": {},
   "outputs": [],
   "source": [
    "# Reading data\n",
    "data_dir = fs.open_fs('.')\n",
    "data = data_dir.open('data.csv')\n",
    "data = pd.read_csv(data.buffer)"
   ]
  },
  {
   "cell_type": "code",
   "execution_count": 3,
   "metadata": {},
   "outputs": [],
   "source": [
    "# Ordering data\n",
    "filt                        = data.iloc[:,0] > data.iloc[:,1]\n",
    "buff                        = data.loc[filt, 'Est']\n",
    "data.loc[filt, 'Est']       = data.loc[filt, 'PV']\n",
    "data.loc[filt, 'PV']        = buff\n",
    "data['Lado'] = data.iloc[:,0] + data.iloc[:,1]\n",
    "vertex = sorted(list(set(np.concatenate((data.iloc[:,0].unique(), data.iloc[:,1].unique())))))"
   ]
  },
  {
   "cell_type": "code",
   "execution_count": 4,
   "metadata": {},
   "outputs": [
    {
     "data": {
      "text/plain": [
       "['A', 'B', 'C', 'D']"
      ]
     },
     "execution_count": 4,
     "metadata": {},
     "output_type": "execute_result"
    }
   ],
   "source": [
    "# Vertex\n",
    "sorted(vertex)"
   ]
  },
  {
   "cell_type": "code",
   "execution_count": 5,
   "metadata": {},
   "outputs": [
    {
     "data": {
      "text/html": [
       "<div>\n",
       "<style scoped>\n",
       "    .dataframe tbody tr th:only-of-type {\n",
       "        vertical-align: middle;\n",
       "    }\n",
       "\n",
       "    .dataframe tbody tr th {\n",
       "        vertical-align: top;\n",
       "    }\n",
       "\n",
       "    .dataframe thead th {\n",
       "        text-align: right;\n",
       "    }\n",
       "</style>\n",
       "<table border=\"1\" class=\"dataframe\">\n",
       "  <thead>\n",
       "    <tr style=\"text-align: right;\">\n",
       "      <th></th>\n",
       "      <th>Est</th>\n",
       "      <th>PV</th>\n",
       "      <th>Tipo</th>\n",
       "      <th>Longitud</th>\n",
       "      <th>Lado</th>\n",
       "    </tr>\n",
       "  </thead>\n",
       "  <tbody>\n",
       "    <tr>\n",
       "      <th>0</th>\n",
       "      <td>A</td>\n",
       "      <td>B</td>\n",
       "      <td>L</td>\n",
       "      <td>15.002</td>\n",
       "      <td>AB</td>\n",
       "    </tr>\n",
       "    <tr>\n",
       "      <th>1</th>\n",
       "      <td>A</td>\n",
       "      <td>B</td>\n",
       "      <td>L</td>\n",
       "      <td>15.002</td>\n",
       "      <td>AB</td>\n",
       "    </tr>\n",
       "    <tr>\n",
       "      <th>2</th>\n",
       "      <td>A</td>\n",
       "      <td>B</td>\n",
       "      <td>L</td>\n",
       "      <td>15.000</td>\n",
       "      <td>AB</td>\n",
       "    </tr>\n",
       "    <tr>\n",
       "      <th>3</th>\n",
       "      <td>A</td>\n",
       "      <td>B</td>\n",
       "      <td>L</td>\n",
       "      <td>15.004</td>\n",
       "      <td>AB</td>\n",
       "    </tr>\n",
       "    <tr>\n",
       "      <th>4</th>\n",
       "      <td>B</td>\n",
       "      <td>C</td>\n",
       "      <td>L</td>\n",
       "      <td>15.524</td>\n",
       "      <td>BC</td>\n",
       "    </tr>\n",
       "    <tr>\n",
       "      <th>5</th>\n",
       "      <td>B</td>\n",
       "      <td>C</td>\n",
       "      <td>L</td>\n",
       "      <td>15.522</td>\n",
       "      <td>BC</td>\n",
       "    </tr>\n",
       "    <tr>\n",
       "      <th>6</th>\n",
       "      <td>B</td>\n",
       "      <td>C</td>\n",
       "      <td>L</td>\n",
       "      <td>15.521</td>\n",
       "      <td>BC</td>\n",
       "    </tr>\n",
       "    <tr>\n",
       "      <th>7</th>\n",
       "      <td>B</td>\n",
       "      <td>C</td>\n",
       "      <td>L</td>\n",
       "      <td>15.525</td>\n",
       "      <td>BC</td>\n",
       "    </tr>\n",
       "    <tr>\n",
       "      <th>8</th>\n",
       "      <td>C</td>\n",
       "      <td>D</td>\n",
       "      <td>L</td>\n",
       "      <td>14.901</td>\n",
       "      <td>CD</td>\n",
       "    </tr>\n",
       "    <tr>\n",
       "      <th>9</th>\n",
       "      <td>C</td>\n",
       "      <td>D</td>\n",
       "      <td>L</td>\n",
       "      <td>14.903</td>\n",
       "      <td>CD</td>\n",
       "    </tr>\n",
       "    <tr>\n",
       "      <th>10</th>\n",
       "      <td>C</td>\n",
       "      <td>D</td>\n",
       "      <td>L</td>\n",
       "      <td>14.904</td>\n",
       "      <td>CD</td>\n",
       "    </tr>\n",
       "    <tr>\n",
       "      <th>11</th>\n",
       "      <td>C</td>\n",
       "      <td>D</td>\n",
       "      <td>L</td>\n",
       "      <td>14.900</td>\n",
       "      <td>CD</td>\n",
       "    </tr>\n",
       "    <tr>\n",
       "      <th>12</th>\n",
       "      <td>A</td>\n",
       "      <td>D</td>\n",
       "      <td>L</td>\n",
       "      <td>14.893</td>\n",
       "      <td>AD</td>\n",
       "    </tr>\n",
       "    <tr>\n",
       "      <th>13</th>\n",
       "      <td>A</td>\n",
       "      <td>D</td>\n",
       "      <td>L</td>\n",
       "      <td>14.891</td>\n",
       "      <td>AD</td>\n",
       "    </tr>\n",
       "    <tr>\n",
       "      <th>14</th>\n",
       "      <td>A</td>\n",
       "      <td>D</td>\n",
       "      <td>L</td>\n",
       "      <td>14.890</td>\n",
       "      <td>AD</td>\n",
       "    </tr>\n",
       "    <tr>\n",
       "      <th>15</th>\n",
       "      <td>A</td>\n",
       "      <td>D</td>\n",
       "      <td>L</td>\n",
       "      <td>14.894</td>\n",
       "      <td>AD</td>\n",
       "    </tr>\n",
       "    <tr>\n",
       "      <th>16</th>\n",
       "      <td>A</td>\n",
       "      <td>C</td>\n",
       "      <td>D</td>\n",
       "      <td>23.860</td>\n",
       "      <td>AC</td>\n",
       "    </tr>\n",
       "    <tr>\n",
       "      <th>17</th>\n",
       "      <td>A</td>\n",
       "      <td>C</td>\n",
       "      <td>D</td>\n",
       "      <td>23.862</td>\n",
       "      <td>AC</td>\n",
       "    </tr>\n",
       "    <tr>\n",
       "      <th>18</th>\n",
       "      <td>A</td>\n",
       "      <td>C</td>\n",
       "      <td>D</td>\n",
       "      <td>23.861</td>\n",
       "      <td>AC</td>\n",
       "    </tr>\n",
       "    <tr>\n",
       "      <th>19</th>\n",
       "      <td>A</td>\n",
       "      <td>C</td>\n",
       "      <td>D</td>\n",
       "      <td>23.861</td>\n",
       "      <td>AC</td>\n",
       "    </tr>\n",
       "    <tr>\n",
       "      <th>20</th>\n",
       "      <td>B</td>\n",
       "      <td>D</td>\n",
       "      <td>D</td>\n",
       "      <td>18.436</td>\n",
       "      <td>BD</td>\n",
       "    </tr>\n",
       "    <tr>\n",
       "      <th>21</th>\n",
       "      <td>B</td>\n",
       "      <td>D</td>\n",
       "      <td>D</td>\n",
       "      <td>18.438</td>\n",
       "      <td>BD</td>\n",
       "    </tr>\n",
       "    <tr>\n",
       "      <th>22</th>\n",
       "      <td>B</td>\n",
       "      <td>D</td>\n",
       "      <td>D</td>\n",
       "      <td>18.439</td>\n",
       "      <td>BD</td>\n",
       "    </tr>\n",
       "    <tr>\n",
       "      <th>23</th>\n",
       "      <td>B</td>\n",
       "      <td>D</td>\n",
       "      <td>D</td>\n",
       "      <td>18.435</td>\n",
       "      <td>BD</td>\n",
       "    </tr>\n",
       "  </tbody>\n",
       "</table>\n",
       "</div>"
      ],
      "text/plain": [
       "   Est PV Tipo  Longitud Lado\n",
       "0    A  B    L    15.002   AB\n",
       "1    A  B    L    15.002   AB\n",
       "2    A  B    L    15.000   AB\n",
       "3    A  B    L    15.004   AB\n",
       "4    B  C    L    15.524   BC\n",
       "5    B  C    L    15.522   BC\n",
       "6    B  C    L    15.521   BC\n",
       "7    B  C    L    15.525   BC\n",
       "8    C  D    L    14.901   CD\n",
       "9    C  D    L    14.903   CD\n",
       "10   C  D    L    14.904   CD\n",
       "11   C  D    L    14.900   CD\n",
       "12   A  D    L    14.893   AD\n",
       "13   A  D    L    14.891   AD\n",
       "14   A  D    L    14.890   AD\n",
       "15   A  D    L    14.894   AD\n",
       "16   A  C    D    23.860   AC\n",
       "17   A  C    D    23.862   AC\n",
       "18   A  C    D    23.861   AC\n",
       "19   A  C    D    23.861   AC\n",
       "20   B  D    D    18.436   BD\n",
       "21   B  D    D    18.438   BD\n",
       "22   B  D    D    18.439   BD\n",
       "23   B  D    D    18.435   BD"
      ]
     },
     "execution_count": 5,
     "metadata": {},
     "output_type": "execute_result"
    }
   ],
   "source": [
    "data"
   ]
  },
  {
   "cell_type": "code",
   "execution_count": 6,
   "metadata": {},
   "outputs": [],
   "source": [
    "# means\n",
    "data_mean = data.groupby(['Est', 'PV', 'Tipo',]).agg({'Longitud': np.mean})\n",
    "data_mean = data_mean.reset_index()"
   ]
  },
  {
   "cell_type": "code",
   "execution_count": 7,
   "metadata": {},
   "outputs": [
    {
     "data": {
      "text/html": [
       "<div>\n",
       "<style scoped>\n",
       "    .dataframe tbody tr th:only-of-type {\n",
       "        vertical-align: middle;\n",
       "    }\n",
       "\n",
       "    .dataframe tbody tr th {\n",
       "        vertical-align: top;\n",
       "    }\n",
       "\n",
       "    .dataframe thead th {\n",
       "        text-align: right;\n",
       "    }\n",
       "</style>\n",
       "<table border=\"1\" class=\"dataframe\">\n",
       "  <thead>\n",
       "    <tr style=\"text-align: right;\">\n",
       "      <th></th>\n",
       "      <th>Est</th>\n",
       "      <th>PV</th>\n",
       "      <th>Tipo</th>\n",
       "      <th>Longitud</th>\n",
       "    </tr>\n",
       "  </thead>\n",
       "  <tbody>\n",
       "    <tr>\n",
       "      <th>0</th>\n",
       "      <td>A</td>\n",
       "      <td>B</td>\n",
       "      <td>L</td>\n",
       "      <td>15.002</td>\n",
       "    </tr>\n",
       "    <tr>\n",
       "      <th>2</th>\n",
       "      <td>A</td>\n",
       "      <td>D</td>\n",
       "      <td>L</td>\n",
       "      <td>14.892</td>\n",
       "    </tr>\n",
       "    <tr>\n",
       "      <th>3</th>\n",
       "      <td>B</td>\n",
       "      <td>C</td>\n",
       "      <td>L</td>\n",
       "      <td>15.523</td>\n",
       "    </tr>\n",
       "    <tr>\n",
       "      <th>5</th>\n",
       "      <td>C</td>\n",
       "      <td>D</td>\n",
       "      <td>L</td>\n",
       "      <td>14.902</td>\n",
       "    </tr>\n",
       "  </tbody>\n",
       "</table>\n",
       "</div>"
      ],
      "text/plain": [
       "  Est PV Tipo  Longitud\n",
       "0   A  B    L    15.002\n",
       "2   A  D    L    14.892\n",
       "3   B  C    L    15.523\n",
       "5   C  D    L    14.902"
      ]
     },
     "execution_count": 7,
     "metadata": {},
     "output_type": "execute_result"
    }
   ],
   "source": [
    "data_mean[data_mean['Tipo'] == 'L']"
   ]
  },
  {
   "cell_type": "code",
   "execution_count": 8,
   "metadata": {},
   "outputs": [],
   "source": [
    "# class medicion(weight: float, length: float, e: float, coefd: float):\n",
    "    \n",
    "    # pass"
   ]
  },
  {
   "cell_type": "code",
   "execution_count": 9,
   "metadata": {},
   "outputs": [],
   "source": [
    "# find angles function\n",
    "def find_angles(data, vertex):\n",
    "    vertex_angles = {}\n",
    "    sides = data_mean.loc[data_mean.iloc[:,2]=='L']\n",
    "    diagonals = data_mean.loc[data_mean.iloc[:,2]=='D']\n",
    "    sides['side'] = sides.iloc[:,0] + sides.iloc[:,1]\n",
    "    for i in vertex:\n",
    "        sides_i = sides[(sides.iloc[:,0]==i) | (sides.iloc[:,1]==i)]\n",
    "        sbs_i = sides_i['side'].str.replace(i,'').values\n",
    "        sides_i = sides_i.iloc[:,3].values\n",
    "        diagonal_i = diagonals[((diagonals.iloc[:,0] == sbs_i[0])) & (diagonals.iloc[:,1] == sbs_i[1]) | ((diagonals.iloc[:,0] == sbs_i[1]) & (diagonals.iloc[:,1] == sbs_i[0]))]\n",
    "        diagonal_i = diagonal_i.iloc[:,3].values\n",
    "        angle = float(np.arccos((sides_i[0]**2 + sides_i[1]**2 - diagonal_i**2)/(2*sides_i[0]*sides_i[1])))\n",
    "        vertex_angles[i] = angle\n",
    "    return vertex_angles"
   ]
  },
  {
   "cell_type": "code",
   "execution_count": 51,
   "metadata": {},
   "outputs": [
    {
     "name": "stderr",
     "output_type": "stream",
     "text": [
      "C:\\Users\\Cesar\\AppData\\Local\\Temp\\ipykernel_12252\\969116817.py:6: SettingWithCopyWarning: \n",
      "A value is trying to be set on a copy of a slice from a DataFrame.\n",
      "Try using .loc[row_indexer,col_indexer] = value instead\n",
      "\n",
      "See the caveats in the documentation: https://pandas.pydata.org/pandas-docs/stable/user_guide/indexing.html#returning-a-view-versus-a-copy\n",
      "  sides['side'] = sides.iloc[:,0] + sides.iloc[:,1]\n"
     ]
    },
    {
     "data": {
      "text/plain": [
       "{'A': 1.329328213861972,\n",
       " 'B': 1.7946420083249777,\n",
       " 'C': 1.3015938254689292,\n",
       " 'D': 1.857621259523708}"
      ]
     },
     "execution_count": 51,
     "metadata": {},
     "output_type": "execute_result"
    }
   ],
   "source": [
    "angles = find_angles(data_mean, vertex)\n",
    "angle_correction = (2*np.pi - (np.sum(list(angles.values()))))/len(angles)\n",
    "angles_corrected = {i: (v + angle_correction) for i, v in angles.items()}\n",
    "angles_corrected"
   ]
  },
  {
   "cell_type": "code",
   "execution_count": 11,
   "metadata": {},
   "outputs": [
    {
     "data": {
      "text/html": [
       "<div>\n",
       "<style scoped>\n",
       "    .dataframe tbody tr th:only-of-type {\n",
       "        vertical-align: middle;\n",
       "    }\n",
       "\n",
       "    .dataframe tbody tr th {\n",
       "        vertical-align: top;\n",
       "    }\n",
       "\n",
       "    .dataframe thead tr th {\n",
       "        text-align: left;\n",
       "    }\n",
       "</style>\n",
       "<table border=\"1\" class=\"dataframe\">\n",
       "  <thead>\n",
       "    <tr>\n",
       "      <th></th>\n",
       "      <th colspan=\"2\" halign=\"left\">0</th>\n",
       "    </tr>\n",
       "    <tr>\n",
       "      <th></th>\n",
       "      <th>&lt;lambda&gt;</th>\n",
       "      <th>&lt;lambda&gt;</th>\n",
       "    </tr>\n",
       "  </thead>\n",
       "  <tbody>\n",
       "    <tr>\n",
       "      <th>A</th>\n",
       "      <td>1.329187</td>\n",
       "      <td>76.156781</td>\n",
       "    </tr>\n",
       "    <tr>\n",
       "      <th>B</th>\n",
       "      <td>1.794500</td>\n",
       "      <td>102.817298</td>\n",
       "    </tr>\n",
       "    <tr>\n",
       "      <th>C</th>\n",
       "      <td>1.301452</td>\n",
       "      <td>74.567718</td>\n",
       "    </tr>\n",
       "    <tr>\n",
       "      <th>D</th>\n",
       "      <td>1.857480</td>\n",
       "      <td>106.425743</td>\n",
       "    </tr>\n",
       "  </tbody>\n",
       "</table>\n",
       "</div>"
      ],
      "text/plain": [
       "          0            \n",
       "   <lambda>    <lambda>\n",
       "A  1.329187   76.156781\n",
       "B  1.794500  102.817298\n",
       "C  1.301452   74.567718\n",
       "D  1.857480  106.425743"
      ]
     },
     "execution_count": 11,
     "metadata": {},
     "output_type": "execute_result"
    }
   ],
   "source": [
    "# No corregido\n",
    "pd.DataFrame(angles.values(), index=angles.keys()).agg([\n",
    "    lambda x: x,\n",
    "    lambda x: x/np.pi * 180])"
   ]
  },
  {
   "cell_type": "code",
   "execution_count": 52,
   "metadata": {},
   "outputs": [
    {
     "data": {
      "text/html": [
       "<div>\n",
       "<style scoped>\n",
       "    .dataframe tbody tr th:only-of-type {\n",
       "        vertical-align: middle;\n",
       "    }\n",
       "\n",
       "    .dataframe tbody tr th {\n",
       "        vertical-align: top;\n",
       "    }\n",
       "\n",
       "    .dataframe thead tr th {\n",
       "        text-align: left;\n",
       "    }\n",
       "</style>\n",
       "<table border=\"1\" class=\"dataframe\">\n",
       "  <thead>\n",
       "    <tr>\n",
       "      <th></th>\n",
       "      <th colspan=\"2\" halign=\"left\">0</th>\n",
       "    </tr>\n",
       "    <tr>\n",
       "      <th></th>\n",
       "      <th>&lt;lambda&gt;</th>\n",
       "      <th>&lt;lambda&gt;</th>\n",
       "    </tr>\n",
       "  </thead>\n",
       "  <tbody>\n",
       "    <tr>\n",
       "      <th>A</th>\n",
       "      <td>1.329328</td>\n",
       "      <td>76.164896</td>\n",
       "    </tr>\n",
       "    <tr>\n",
       "      <th>B</th>\n",
       "      <td>1.794642</td>\n",
       "      <td>102.825413</td>\n",
       "    </tr>\n",
       "    <tr>\n",
       "      <th>C</th>\n",
       "      <td>1.301594</td>\n",
       "      <td>74.575833</td>\n",
       "    </tr>\n",
       "    <tr>\n",
       "      <th>D</th>\n",
       "      <td>1.857621</td>\n",
       "      <td>106.433858</td>\n",
       "    </tr>\n",
       "  </tbody>\n",
       "</table>\n",
       "</div>"
      ],
      "text/plain": [
       "          0            \n",
       "   <lambda>    <lambda>\n",
       "A  1.329328   76.164896\n",
       "B  1.794642  102.825413\n",
       "C  1.301594   74.575833\n",
       "D  1.857621  106.433858"
      ]
     },
     "execution_count": 52,
     "metadata": {},
     "output_type": "execute_result"
    }
   ],
   "source": [
    "# Corregido\n",
    "pd.DataFrame(angles_corrected.values(), index=angles_corrected.keys()).agg([\n",
    "    lambda x: x,\n",
    "    lambda x: x/np.pi * 180])"
   ]
  },
  {
   "cell_type": "code",
   "execution_count": 57,
   "metadata": {},
   "outputs": [
    {
     "data": {
      "text/plain": [
       "<matplotlib.quiver.Quiver at 0x120cbec21d0>"
      ]
     },
     "execution_count": 57,
     "metadata": {},
     "output_type": "execute_result"
    },
    {
     "name": "stderr",
     "output_type": "stream",
     "text": [
      "C:\\Users\\Cesar\\anaconda3\\envs\\ds\\lib\\site-packages\\matplotlib\\quiver.py:647: RuntimeWarning: invalid value encountered in true_divide\n",
      "  lengths = np.hypot(*dxy.T) / eps\n",
      "C:\\Users\\Cesar\\anaconda3\\envs\\ds\\lib\\site-packages\\matplotlib\\quiver.py:689: RuntimeWarning: divide by zero encountered in double_scalars\n",
      "  length = a * (widthu_per_lenu / (self.scale * self.width))\n",
      "C:\\Users\\Cesar\\anaconda3\\envs\\ds\\lib\\site-packages\\matplotlib\\quiver.py:689: RuntimeWarning: invalid value encountered in multiply\n",
      "  length = a * (widthu_per_lenu / (self.scale * self.width))\n"
     ]
    },
    {
     "data": {
      "image/png": "[encoded data removed]",
      "text/plain": [
       "<Figure size 720x720 with 1 Axes>"
      ]
     },
     "metadata": {
      "needs_background": "light"
     },
     "output_type": "display_data"
    }
   ],
   "source": [
    "p_0 = [0,0,1,1]\n",
    "p_1 = [0,0,-1,1]\n",
    "\n",
    "\n",
    "fig, ax = plt.subplots(figsize=(10,10))\n",
    "ax.quiver(p_0[0], p_0[0],\n",
    "          angles='xy')"
   ]
  }
 ],
 "metadata": {
  "interpreter": {
   "hash": "40045ba4287eb5f67feca55db0927d249762f6e31a023956f349261635c9fa11"
  },
  "kernelspec": {
   "display_name": "Python 3.10.2 ('ds')",
   "language": "python",
   "name": "python3"
  },
  "language_info": {
   "codemirror_mode": {
    "name": "ipython",
    "version": 3
   },
   "file_extension": ".py",
   "mimetype": "text/x-python",
   "name": "python",
   "nbconvert_exporter": "python",
   "pygments_lexer": "ipython3",
   "version": "3.10.2"
  },
  "orig_nbformat": 4
 },
 "nbformat": 4,
 "nbformat_minor": 2
}
